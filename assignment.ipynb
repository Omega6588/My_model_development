{
  "cells": [
    {
      "cell_type": "markdown",
      "id": "dSBjIXqNltut",
      "metadata": {
        "id": "dSBjIXqNltut"
      },
      "source": [
        "#NUMBER 1: DATA PREPARATION"
      ]
    },
    {
      "cell_type": "code",
      "execution_count": 4,
      "id": "yy4TFOqq_xuF",
      "metadata": {
        "colab": {
          "base_uri": "https://localhost:8080/"
        },
        "id": "yy4TFOqq_xuF",
        "outputId": "b83f0195-9e11-44ce-dc5d-fb3d8f44ad8a"
      },
      "outputs": [
        {
          "name": "stdout",
          "output_type": "stream",
          "text": [
            "Done importing libraries\n"
          ]
        }
      ],
      "source": [
        "import pandas as pd\n",
        "import numpy as np\n",
        "import matplotlib.pyplot as plt\n",
        "from sklearn.linear_model import LinearRegression\n",
        "from sklearn.model_selection import train_test_split\n",
        "print(\"Done importing libraries\")"
      ]
    },
    {
      "cell_type": "code",
      "execution_count": 5,
      "id": "zR0u0dY1_xuX",
      "metadata": {
        "colab": {
          "base_uri": "https://localhost:8080/",
          "height": 497
        },
        "id": "zR0u0dY1_xuX",
        "outputId": "afac22c6-6736-4d9e-ea62-e4d4d1101079"
      },
      "outputs": [
        {
          "data": {
            "text/html": [
              "<div>\n",
              "<style scoped>\n",
              "    .dataframe tbody tr th:only-of-type {\n",
              "        vertical-align: middle;\n",
              "    }\n",
              "\n",
              "    .dataframe tbody tr th {\n",
              "        vertical-align: top;\n",
              "    }\n",
              "\n",
              "    .dataframe thead th {\n",
              "        text-align: right;\n",
              "    }\n",
              "</style>\n",
              "<table border=\"1\" class=\"dataframe\">\n",
              "  <thead>\n",
              "    <tr style=\"text-align: right;\">\n",
              "      <th></th>\n",
              "      <th>sofifa_id</th>\n",
              "      <th>player_url</th>\n",
              "      <th>short_name</th>\n",
              "      <th>long_name</th>\n",
              "      <th>age</th>\n",
              "      <th>dob</th>\n",
              "      <th>height_cm</th>\n",
              "      <th>weight_kg</th>\n",
              "      <th>nationality</th>\n",
              "      <th>club</th>\n",
              "      <th>...</th>\n",
              "      <th>lwb</th>\n",
              "      <th>ldm</th>\n",
              "      <th>cdm</th>\n",
              "      <th>rdm</th>\n",
              "      <th>rwb</th>\n",
              "      <th>lb</th>\n",
              "      <th>lcb</th>\n",
              "      <th>cb</th>\n",
              "      <th>rcb</th>\n",
              "      <th>rb</th>\n",
              "    </tr>\n",
              "  </thead>\n",
              "  <tbody>\n",
              "    <tr>\n",
              "      <th>0</th>\n",
              "      <td>158023</td>\n",
              "      <td>https://sofifa.com/player/158023/lionel-messi/...</td>\n",
              "      <td>L. Messi</td>\n",
              "      <td>Lionel Andrés Messi Cuccittini</td>\n",
              "      <td>32</td>\n",
              "      <td>1987-06-24</td>\n",
              "      <td>170</td>\n",
              "      <td>72</td>\n",
              "      <td>Argentina</td>\n",
              "      <td>FC Barcelona</td>\n",
              "      <td>...</td>\n",
              "      <td>68+2</td>\n",
              "      <td>66+2</td>\n",
              "      <td>66+2</td>\n",
              "      <td>66+2</td>\n",
              "      <td>68+2</td>\n",
              "      <td>63+2</td>\n",
              "      <td>52+2</td>\n",
              "      <td>52+2</td>\n",
              "      <td>52+2</td>\n",
              "      <td>63+2</td>\n",
              "    </tr>\n",
              "    <tr>\n",
              "      <th>1</th>\n",
              "      <td>20801</td>\n",
              "      <td>https://sofifa.com/player/20801/c-ronaldo-dos-...</td>\n",
              "      <td>Cristiano Ronaldo</td>\n",
              "      <td>Cristiano Ronaldo dos Santos Aveiro</td>\n",
              "      <td>34</td>\n",
              "      <td>1985-02-05</td>\n",
              "      <td>187</td>\n",
              "      <td>83</td>\n",
              "      <td>Portugal</td>\n",
              "      <td>Juventus</td>\n",
              "      <td>...</td>\n",
              "      <td>65+3</td>\n",
              "      <td>61+3</td>\n",
              "      <td>61+3</td>\n",
              "      <td>61+3</td>\n",
              "      <td>65+3</td>\n",
              "      <td>61+3</td>\n",
              "      <td>53+3</td>\n",
              "      <td>53+3</td>\n",
              "      <td>53+3</td>\n",
              "      <td>61+3</td>\n",
              "    </tr>\n",
              "    <tr>\n",
              "      <th>2</th>\n",
              "      <td>190871</td>\n",
              "      <td>https://sofifa.com/player/190871/neymar-da-sil...</td>\n",
              "      <td>Neymar Jr</td>\n",
              "      <td>Neymar da Silva Santos Junior</td>\n",
              "      <td>27</td>\n",
              "      <td>1992-02-05</td>\n",
              "      <td>175</td>\n",
              "      <td>68</td>\n",
              "      <td>Brazil</td>\n",
              "      <td>Paris Saint-Germain</td>\n",
              "      <td>...</td>\n",
              "      <td>66+3</td>\n",
              "      <td>61+3</td>\n",
              "      <td>61+3</td>\n",
              "      <td>61+3</td>\n",
              "      <td>66+3</td>\n",
              "      <td>61+3</td>\n",
              "      <td>46+3</td>\n",
              "      <td>46+3</td>\n",
              "      <td>46+3</td>\n",
              "      <td>61+3</td>\n",
              "    </tr>\n",
              "    <tr>\n",
              "      <th>3</th>\n",
              "      <td>200389</td>\n",
              "      <td>https://sofifa.com/player/200389/jan-oblak/20/...</td>\n",
              "      <td>J. Oblak</td>\n",
              "      <td>Jan Oblak</td>\n",
              "      <td>26</td>\n",
              "      <td>1993-01-07</td>\n",
              "      <td>188</td>\n",
              "      <td>87</td>\n",
              "      <td>Slovenia</td>\n",
              "      <td>Atlético Madrid</td>\n",
              "      <td>...</td>\n",
              "      <td>NaN</td>\n",
              "      <td>NaN</td>\n",
              "      <td>NaN</td>\n",
              "      <td>NaN</td>\n",
              "      <td>NaN</td>\n",
              "      <td>NaN</td>\n",
              "      <td>NaN</td>\n",
              "      <td>NaN</td>\n",
              "      <td>NaN</td>\n",
              "      <td>NaN</td>\n",
              "    </tr>\n",
              "    <tr>\n",
              "      <th>4</th>\n",
              "      <td>183277</td>\n",
              "      <td>https://sofifa.com/player/183277/eden-hazard/2...</td>\n",
              "      <td>E. Hazard</td>\n",
              "      <td>Eden Hazard</td>\n",
              "      <td>28</td>\n",
              "      <td>1991-01-07</td>\n",
              "      <td>175</td>\n",
              "      <td>74</td>\n",
              "      <td>Belgium</td>\n",
              "      <td>Real Madrid</td>\n",
              "      <td>...</td>\n",
              "      <td>66+3</td>\n",
              "      <td>63+3</td>\n",
              "      <td>63+3</td>\n",
              "      <td>63+3</td>\n",
              "      <td>66+3</td>\n",
              "      <td>61+3</td>\n",
              "      <td>49+3</td>\n",
              "      <td>49+3</td>\n",
              "      <td>49+3</td>\n",
              "      <td>61+3</td>\n",
              "    </tr>\n",
              "  </tbody>\n",
              "</table>\n",
              "<p>5 rows × 104 columns</p>\n",
              "</div>"
            ],
            "text/plain": [
              "   sofifa_id                                         player_url  \\\n",
              "0     158023  https://sofifa.com/player/158023/lionel-messi/...   \n",
              "1      20801  https://sofifa.com/player/20801/c-ronaldo-dos-...   \n",
              "2     190871  https://sofifa.com/player/190871/neymar-da-sil...   \n",
              "3     200389  https://sofifa.com/player/200389/jan-oblak/20/...   \n",
              "4     183277  https://sofifa.com/player/183277/eden-hazard/2...   \n",
              "\n",
              "          short_name                            long_name  age         dob  \\\n",
              "0           L. Messi       Lionel Andrés Messi Cuccittini   32  1987-06-24   \n",
              "1  Cristiano Ronaldo  Cristiano Ronaldo dos Santos Aveiro   34  1985-02-05   \n",
              "2          Neymar Jr        Neymar da Silva Santos Junior   27  1992-02-05   \n",
              "3           J. Oblak                            Jan Oblak   26  1993-01-07   \n",
              "4          E. Hazard                          Eden Hazard   28  1991-01-07   \n",
              "\n",
              "   height_cm  weight_kg nationality                 club  ...   lwb   ldm  \\\n",
              "0        170         72   Argentina         FC Barcelona  ...  68+2  66+2   \n",
              "1        187         83    Portugal             Juventus  ...  65+3  61+3   \n",
              "2        175         68      Brazil  Paris Saint-Germain  ...  66+3  61+3   \n",
              "3        188         87    Slovenia      Atlético Madrid  ...   NaN   NaN   \n",
              "4        175         74     Belgium          Real Madrid  ...  66+3  63+3   \n",
              "\n",
              "    cdm   rdm   rwb    lb   lcb    cb   rcb    rb  \n",
              "0  66+2  66+2  68+2  63+2  52+2  52+2  52+2  63+2  \n",
              "1  61+3  61+3  65+3  61+3  53+3  53+3  53+3  61+3  \n",
              "2  61+3  61+3  66+3  61+3  46+3  46+3  46+3  61+3  \n",
              "3   NaN   NaN   NaN   NaN   NaN   NaN   NaN   NaN  \n",
              "4  63+3  63+3  66+3  61+3  49+3  49+3  49+3  61+3  \n",
              "\n",
              "[5 rows x 104 columns]"
            ]
          },
          "execution_count": 5,
          "metadata": {},
          "output_type": "execute_result"
        }
      ],
      "source": [
        "#path_to_file= \"C:/Users/necbanking/Desktop/2.1 modular/fifa_AI/\"\n",
        "df=pd.read_csv(\"players_20.csv\")\n",
        "df_19=pd.read_csv(\"players_19.csv\")\n",
        "\n",
        "df.head()"
      ]
    },
    {
      "cell_type": "code",
      "execution_count": 6,
      "id": "wCHtosySgo7o",
      "metadata": {
        "colab": {
          "base_uri": "https://localhost:8080/",
          "height": 550
        },
        "id": "wCHtosySgo7o",
        "outputId": "f958112a-636b-4e3b-e19f-ef060d3b0294"
      },
      "outputs": [
        {
          "data": {
            "text/html": [
              "<div>\n",
              "<style scoped>\n",
              "    .dataframe tbody tr th:only-of-type {\n",
              "        vertical-align: middle;\n",
              "    }\n",
              "\n",
              "    .dataframe tbody tr th {\n",
              "        vertical-align: top;\n",
              "    }\n",
              "\n",
              "    .dataframe thead th {\n",
              "        text-align: right;\n",
              "    }\n",
              "</style>\n",
              "<table border=\"1\" class=\"dataframe\">\n",
              "  <thead>\n",
              "    <tr style=\"text-align: right;\">\n",
              "      <th></th>\n",
              "      <th>sofifa_id</th>\n",
              "      <th>player_url</th>\n",
              "      <th>short_name</th>\n",
              "      <th>long_name</th>\n",
              "      <th>age</th>\n",
              "      <th>dob</th>\n",
              "      <th>height_cm</th>\n",
              "      <th>weight_kg</th>\n",
              "      <th>nationality</th>\n",
              "      <th>club</th>\n",
              "      <th>...</th>\n",
              "      <th>lwb</th>\n",
              "      <th>ldm</th>\n",
              "      <th>cdm</th>\n",
              "      <th>rdm</th>\n",
              "      <th>rwb</th>\n",
              "      <th>lb</th>\n",
              "      <th>lcb</th>\n",
              "      <th>cb</th>\n",
              "      <th>rcb</th>\n",
              "      <th>rb</th>\n",
              "    </tr>\n",
              "  </thead>\n",
              "  <tbody>\n",
              "    <tr>\n",
              "      <th>0</th>\n",
              "      <td>20801</td>\n",
              "      <td>https://sofifa.com/player/20801/c-ronaldo-dos-...</td>\n",
              "      <td>Cristiano Ronaldo</td>\n",
              "      <td>Cristiano Ronaldo dos Santos Aveiro</td>\n",
              "      <td>33</td>\n",
              "      <td>1985-02-05</td>\n",
              "      <td>187</td>\n",
              "      <td>83</td>\n",
              "      <td>Portugal</td>\n",
              "      <td>Juventus</td>\n",
              "      <td>...</td>\n",
              "      <td>65+3</td>\n",
              "      <td>61+3</td>\n",
              "      <td>61+3</td>\n",
              "      <td>61+3</td>\n",
              "      <td>65+3</td>\n",
              "      <td>61+3</td>\n",
              "      <td>53+3</td>\n",
              "      <td>53+3</td>\n",
              "      <td>53+3</td>\n",
              "      <td>61+3</td>\n",
              "    </tr>\n",
              "    <tr>\n",
              "      <th>1</th>\n",
              "      <td>158023</td>\n",
              "      <td>https://sofifa.com/player/158023/lionel-messi/...</td>\n",
              "      <td>L. Messi</td>\n",
              "      <td>Lionel Andrés Messi Cuccittini</td>\n",
              "      <td>31</td>\n",
              "      <td>1987-06-24</td>\n",
              "      <td>170</td>\n",
              "      <td>72</td>\n",
              "      <td>Argentina</td>\n",
              "      <td>FC Barcelona</td>\n",
              "      <td>...</td>\n",
              "      <td>63+2</td>\n",
              "      <td>61+2</td>\n",
              "      <td>61+2</td>\n",
              "      <td>61+2</td>\n",
              "      <td>63+2</td>\n",
              "      <td>58+2</td>\n",
              "      <td>47+2</td>\n",
              "      <td>47+2</td>\n",
              "      <td>47+2</td>\n",
              "      <td>58+2</td>\n",
              "    </tr>\n",
              "    <tr>\n",
              "      <th>2</th>\n",
              "      <td>190871</td>\n",
              "      <td>https://sofifa.com/player/190871/neymar-da-sil...</td>\n",
              "      <td>Neymar Jr</td>\n",
              "      <td>Neymar da Silva Santos Junior</td>\n",
              "      <td>26</td>\n",
              "      <td>1992-02-05</td>\n",
              "      <td>175</td>\n",
              "      <td>68</td>\n",
              "      <td>Brazil</td>\n",
              "      <td>Paris Saint-Germain</td>\n",
              "      <td>...</td>\n",
              "      <td>65+3</td>\n",
              "      <td>60+3</td>\n",
              "      <td>60+3</td>\n",
              "      <td>60+3</td>\n",
              "      <td>65+3</td>\n",
              "      <td>60+3</td>\n",
              "      <td>47+3</td>\n",
              "      <td>47+3</td>\n",
              "      <td>47+3</td>\n",
              "      <td>60+3</td>\n",
              "    </tr>\n",
              "    <tr>\n",
              "      <th>3</th>\n",
              "      <td>193080</td>\n",
              "      <td>https://sofifa.com/player/193080/david-de-gea-...</td>\n",
              "      <td>De Gea</td>\n",
              "      <td>David De Gea Quintana</td>\n",
              "      <td>27</td>\n",
              "      <td>1990-11-07</td>\n",
              "      <td>193</td>\n",
              "      <td>76</td>\n",
              "      <td>Spain</td>\n",
              "      <td>Manchester United</td>\n",
              "      <td>...</td>\n",
              "      <td>NaN</td>\n",
              "      <td>NaN</td>\n",
              "      <td>NaN</td>\n",
              "      <td>NaN</td>\n",
              "      <td>NaN</td>\n",
              "      <td>NaN</td>\n",
              "      <td>NaN</td>\n",
              "      <td>NaN</td>\n",
              "      <td>NaN</td>\n",
              "      <td>NaN</td>\n",
              "    </tr>\n",
              "    <tr>\n",
              "      <th>4</th>\n",
              "      <td>192985</td>\n",
              "      <td>https://sofifa.com/player/192985/kevin-de-bruy...</td>\n",
              "      <td>K. De Bruyne</td>\n",
              "      <td>Kevin De Bruyne</td>\n",
              "      <td>27</td>\n",
              "      <td>1991-06-28</td>\n",
              "      <td>181</td>\n",
              "      <td>70</td>\n",
              "      <td>Belgium</td>\n",
              "      <td>Manchester City</td>\n",
              "      <td>...</td>\n",
              "      <td>77+3</td>\n",
              "      <td>77+3</td>\n",
              "      <td>77+3</td>\n",
              "      <td>77+3</td>\n",
              "      <td>77+3</td>\n",
              "      <td>73+3</td>\n",
              "      <td>66+3</td>\n",
              "      <td>66+3</td>\n",
              "      <td>66+3</td>\n",
              "      <td>73+3</td>\n",
              "    </tr>\n",
              "  </tbody>\n",
              "</table>\n",
              "<p>5 rows × 104 columns</p>\n",
              "</div>"
            ],
            "text/plain": [
              "   sofifa_id                                         player_url  \\\n",
              "0      20801  https://sofifa.com/player/20801/c-ronaldo-dos-...   \n",
              "1     158023  https://sofifa.com/player/158023/lionel-messi/...   \n",
              "2     190871  https://sofifa.com/player/190871/neymar-da-sil...   \n",
              "3     193080  https://sofifa.com/player/193080/david-de-gea-...   \n",
              "4     192985  https://sofifa.com/player/192985/kevin-de-bruy...   \n",
              "\n",
              "          short_name                            long_name  age         dob  \\\n",
              "0  Cristiano Ronaldo  Cristiano Ronaldo dos Santos Aveiro   33  1985-02-05   \n",
              "1           L. Messi       Lionel Andrés Messi Cuccittini   31  1987-06-24   \n",
              "2          Neymar Jr        Neymar da Silva Santos Junior   26  1992-02-05   \n",
              "3             De Gea                David De Gea Quintana   27  1990-11-07   \n",
              "4       K. De Bruyne                      Kevin De Bruyne   27  1991-06-28   \n",
              "\n",
              "   height_cm  weight_kg nationality                 club  ...   lwb   ldm  \\\n",
              "0        187         83    Portugal             Juventus  ...  65+3  61+3   \n",
              "1        170         72   Argentina         FC Barcelona  ...  63+2  61+2   \n",
              "2        175         68      Brazil  Paris Saint-Germain  ...  65+3  60+3   \n",
              "3        193         76       Spain    Manchester United  ...   NaN   NaN   \n",
              "4        181         70     Belgium      Manchester City  ...  77+3  77+3   \n",
              "\n",
              "    cdm   rdm   rwb    lb   lcb    cb   rcb    rb  \n",
              "0  61+3  61+3  65+3  61+3  53+3  53+3  53+3  61+3  \n",
              "1  61+2  61+2  63+2  58+2  47+2  47+2  47+2  58+2  \n",
              "2  60+3  60+3  65+3  60+3  47+3  47+3  47+3  60+3  \n",
              "3   NaN   NaN   NaN   NaN   NaN   NaN   NaN   NaN  \n",
              "4  77+3  77+3  77+3  73+3  66+3  66+3  66+3  73+3  \n",
              "\n",
              "[5 rows x 104 columns]"
            ]
          },
          "execution_count": 6,
          "metadata": {},
          "output_type": "execute_result"
        }
      ],
      "source": [
        "df_19.head()"
      ]
    },
    {
      "cell_type": "code",
      "execution_count": 7,
      "id": "2z8K_h0u_xua",
      "metadata": {
        "id": "2z8K_h0u_xua"
      },
      "outputs": [],
      "source": [
        "df = df.drop('dob', axis =1)\n",
        "df = df.drop('weight_kg', axis =1)\n",
        "df = df.drop('international_reputation', axis =1)\n",
        "df = df.drop('real_face', axis =1)\n",
        "df = df.drop('release_clause_eur', axis =1)\n",
        "df = df.drop('player_tags', axis =1)\n",
        "df = df.drop('team_jersey_number', axis =1)\n",
        "df = df.drop('loaned_from', axis =1)\n",
        "df = df.drop('joined', axis =1)\n",
        "df = df.drop('contract_valid_until', axis =1)\n",
        "df = df.drop('nation_position', axis =1)\n",
        "df = df.drop('nation_jersey_number', axis =1)\n",
        "df = df.drop('player_traits', axis =1)\n",
        "df = df.drop('sofifa_id', axis =1)\n",
        "df = df.drop('long_name', axis =1)\n"
      ]
    },
    {
      "cell_type": "code",
      "execution_count": 8,
      "id": "1Eq3r0A__xud",
      "metadata": {
        "id": "1Eq3r0A__xud"
      },
      "outputs": [],
      "source": [
        "df_19 = df_19.drop('dob', axis =1)\n",
        "df_19 = df_19.drop('weight_kg', axis =1)\n",
        "df_19 = df_19.drop('international_reputation', axis =1)\n",
        "df_19 = df_19.drop('real_face', axis =1)\n",
        "df_19 = df_19.drop('release_clause_eur', axis =1)\n",
        "df_19 = df_19.drop('player_tags', axis =1)\n",
        "df_19 = df_19.drop('team_jersey_number', axis =1)\n",
        "df_19 = df_19.drop('loaned_from', axis =1)\n",
        "df_19 = df_19.drop('joined', axis =1)\n",
        "df_19 = df_19.drop('contract_valid_until', axis =1)\n",
        "df_19 = df_19.drop('nation_position', axis =1)\n",
        "df_19 = df_19.drop('nation_jersey_number', axis =1)\n",
        "df_19 = df_19.drop('player_traits', axis =1)\n",
        "df_19 = df_19.drop('sofifa_id', axis =1)\n",
        "df_19 = df_19.drop('long_name', axis =1)\n"
      ]
    },
    {
      "cell_type": "markdown",
      "id": "6jtwS3JHnLBJ",
      "metadata": {
        "id": "6jtwS3JHnLBJ"
      },
      "source": [
        "#NUMBER 2: CORRELATION"
      ]
    },
    {
      "cell_type": "code",
      "execution_count": 9,
      "id": "Vrbeb49h_xuh",
      "metadata": {
        "colab": {
          "base_uri": "https://localhost:8080/"
        },
        "id": "Vrbeb49h_xuh",
        "outputId": "7d26eb2b-989a-4ce9-9249-a53d883802c1"
      },
      "outputs": [
        {
          "name": "stdout",
          "output_type": "stream",
          "text": [
            "Leingth of training data is:13708\n",
            "Leingth of test data is:4570\n"
          ]
        }
      ],
      "source": [
        "#splitting data\n",
        "train_data, test_data=train_test_split(df,test_size=0.25)\n",
        "print(\"Leingth of training data is:\"+str(len(train_data)))\n",
        "print(\"Leingth of test data is:\"+str(len(test_data)))"
      ]
    },
    {
      "cell_type": "code",
      "execution_count": 10,
      "id": "KbiupjJh_xuk",
      "metadata": {
        "colab": {
          "base_uri": "https://localhost:8080/"
        },
        "id": "KbiupjJh_xuk",
        "outputId": "f05eeb88-49c1-4b8d-9829-3627f17f1199"
      },
      "outputs": [
        {
          "name": "stdout",
          "output_type": "stream",
          "text": [
            "gk_diving                  0.947271\n",
            "gk_reflexes                0.946544\n",
            "gk_positioning             0.942613\n",
            "gk_handling                0.924384\n",
            "movement_reactions         0.865163\n",
            "gk_kicking                 0.781243\n",
            "mentality_composure        0.722773\n",
            "passing                    0.686709\n",
            "potential                  0.647393\n",
            "value_eur                  0.640589\n",
            "dribbling                  0.606655\n",
            "wage_eur                   0.581557\n",
            "power_shot_power           0.568533\n",
            "physic                     0.513771\n",
            "mentality_vision           0.511100\n",
            "shooting                   0.502916\n",
            "attacking_short_passing    0.501772\n",
            "gk_speed                   0.491738\n",
            "skill_long_passing         0.487739\n",
            "age                        0.463627\n",
            "Name: overall, dtype: float64\n"
          ]
        },
        {
          "data": {
            "text/plain": [
              "overall                       1.000000\n",
              "gk_diving                     0.948912\n",
              "gk_reflexes                   0.947823\n",
              "gk_positioning                0.944758\n",
              "gk_handling                   0.925025\n",
              "movement_reactions            0.864526\n",
              "gk_kicking                    0.790903\n",
              "mentality_composure           0.719992\n",
              "passing                       0.683954\n",
              "potential                     0.646650\n",
              "value_eur                     0.638230\n",
              "dribbling                     0.601190\n",
              "wage_eur                      0.573578\n",
              "power_shot_power              0.567504\n",
              "physic                        0.517214\n",
              "mentality_vision              0.509251\n",
              "attacking_short_passing       0.503157\n",
              "shooting                      0.497881\n",
              "skill_long_passing            0.487289\n",
              "gk_speed                      0.480652\n",
              "age                           0.464305\n",
              "skill_ball_control            0.457052\n",
              "power_long_shots              0.425081\n",
              "skill_curve                   0.415521\n",
              "skill_moves                   0.401261\n",
              "mentality_aggression          0.399434\n",
              "attacking_volleys             0.394152\n",
              "skill_fk_accuracy             0.389790\n",
              "attacking_crossing            0.389078\n",
              "skill_dribbling               0.370639\n",
              "power_stamina                 0.370344\n",
              "power_strength                0.361543\n",
              "mentality_positioning         0.356025\n",
              "mentality_penalties           0.347950\n",
              "attacking_heading_accuracy    0.345784\n",
              "attacking_finishing           0.342372\n",
              "defending                     0.334792\n",
              "mentality_interceptions       0.315582\n",
              "defending_marking             0.303075\n",
              "power_jumping                 0.267553\n",
              "movement_agility              0.253464\n",
              "defending_standing_tackle     0.249891\n",
              "weak_foot                     0.230276\n",
              "defending_sliding_tackle      0.219560\n",
              "movement_sprint_speed         0.199009\n",
              "movement_acceleration         0.186320\n",
              "pace                          0.158866\n",
              "movement_balance              0.103872\n",
              "height_cm                     0.039945\n",
              "goalkeeping_positioning      -0.006408\n",
              "goalkeeping_reflexes         -0.012775\n",
              "goalkeeping_diving           -0.013239\n",
              "goalkeeping_handling         -0.013716\n",
              "goalkeeping_kicking          -0.017393\n",
              "Name: overall, dtype: float64"
            ]
          },
          "execution_count": 10,
          "metadata": {},
          "output_type": "execute_result"
        }
      ],
      "source": [
        "#selecting features\n",
        "target_feature='overall'\n",
        "\n",
        "#finding features that arecorrelated to the overall column\n",
        "feature_corr=train_data.corr(method='pearson')[target_feature]\n",
        "feature_corr=feature_corr.sort_values(ascending=False)\n",
        "#print thetop ten correlations with the target value\n",
        "print(feature_corr[1:21])\n",
        "corr_matrix = df.corr()\n",
        "corr_matrix['overall'].sort_values(ascending=False)\n",
        "\n",
        "##"
      ]
    },
    {
      "cell_type": "markdown",
      "id": "Q9pQk-RgopWy",
      "metadata": {
        "id": "Q9pQk-RgopWy"
      },
      "source": [
        "#NUMBER 3: REGRESSION MODEL\n"
      ]
    },
    {
      "cell_type": "code",
      "execution_count": 11,
      "id": "udeg0mQloPt3",
      "metadata": {
        "id": "udeg0mQloPt3"
      },
      "outputs": [
        {
          "name": "stdout",
          "output_type": "stream",
          "text": [
            "0.8812484264381563\n"
          ]
        }
      ],
      "source": [
        "#Training Rgression model\n",
        "features=corr_matrix['overall'].sort_values(ascending=False)\n",
        "features=['potential','value_eur','wage_eur','attacking_short_passing','skill_long_passing','age','skill_ball_control','skill_curve','skill_moves','attacking_volleys']\n",
        "X_train=df[features]\n",
        "y_train=df['overall']\n",
        "r = LinearRegression()\n",
        "r.fit(X_train,y_train )\n",
        "print(r.score(X_train,y_train))"
      ]
    },
    {
      "cell_type": "code",
      "execution_count": 12,
      "id": "KKD431Yz_xuo",
      "metadata": {
        "colab": {
          "base_uri": "https://localhost:8080/"
        },
        "id": "KKD431Yz_xuo",
        "outputId": "0441149c-b2b0-4867-882b-c8b938578a89"
      },
      "outputs": [
        {
          "name": "stdout",
          "output_type": "stream",
          "text": [
            "['gk_diving', 'gk_reflexes', 'gk_positioning', 'gk_handling', 'movement_reactions', 'gk_kicking', 'mentality_composure', 'passing', 'potential', 'value_eur', 'dribbling', 'wage_eur', 'power_shot_power']\n"
          ]
        }
      ],
      "source": [
        "#copying top 20 relavent features to be used by model\n",
        "features=feature_corr[1:14].index.tolist()\n",
        "print(features)"
      ]
    },
    {
      "cell_type": "code",
      "execution_count": 13,
      "id": "YVcDPO1Y_xur",
      "metadata": {
        "colab": {
          "base_uri": "https://localhost:8080/"
        },
        "id": "YVcDPO1Y_xur",
        "outputId": "fe5ed7b6-b27d-402b-a77f-0bf6700e48b3"
      },
      "outputs": [
        {
          "name": "stdout",
          "output_type": "stream",
          "text": [
            "Score:0.8576086511834482\n"
          ]
        },
        {
          "name": "stderr",
          "output_type": "stream",
          "text": [
            "C:\\Users\\LEE\\AppData\\Local\\Programs\\PythonCodingPack\\lib\\site-packages\\pandas\\core\\frame.py:4311: SettingWithCopyWarning: \n",
            "A value is trying to be set on a copy of a slice from a DataFrame\n",
            "\n",
            "See the caveats in the documentation: https://pandas.pydata.org/pandas-docs/stable/user_guide/indexing.html#returning-a-view-versus-a-copy\n",
            "  return super().fillna(\n"
          ]
        }
      ],
      "source": [
        "#training the model\n",
        "x_train=train_data[features]\n",
        "y_train=train_data[target_feature]\n",
        "\n",
        "#replace all empty cells with zero\n",
        "x_train.fillna(0,inplace=True)\n",
        "\n",
        "#using the LinearRegression method to build the model\n",
        "model=LinearRegression().fit(x_train,y_train)\n",
        "#print score\n",
        "print(\"Score:\"+str(model.score(x_train,y_train)))"
      ]
    },
    {
      "cell_type": "markdown",
      "id": "I9_ThV75qdV5",
      "metadata": {
        "id": "I9_ThV75qdV5"
      },
      "source": [
        "#NUMBER 4: A PROCESS OF OPTIMISATION"
      ]
    },
    {
      "cell_type": "code",
      "execution_count": 14,
      "id": "b9FX6DVn_xuu",
      "metadata": {
        "colab": {
          "base_uri": "https://localhost:8080/",
          "height": 515
        },
        "id": "b9FX6DVn_xuu",
        "outputId": "a117aeca-e1a2-4128-fd6e-082e53027206"
      },
      "outputs": [
        {
          "name": "stderr",
          "output_type": "stream",
          "text": [
            "C:\\Users\\LEE\\AppData\\Local\\Programs\\PythonCodingPack\\lib\\site-packages\\pandas\\core\\frame.py:4311: SettingWithCopyWarning: \n",
            "A value is trying to be set on a copy of a slice from a DataFrame\n",
            "\n",
            "See the caveats in the documentation: https://pandas.pydata.org/pandas-docs/stable/user_guide/indexing.html#returning-a-view-versus-a-copy\n",
            "  return super().fillna(\n"
          ]
        },
        {
          "data": {
            "text/html": [
              "<div>\n",
              "<style scoped>\n",
              "    .dataframe tbody tr th:only-of-type {\n",
              "        vertical-align: middle;\n",
              "    }\n",
              "\n",
              "    .dataframe tbody tr th {\n",
              "        vertical-align: top;\n",
              "    }\n",
              "\n",
              "    .dataframe thead th {\n",
              "        text-align: right;\n",
              "    }\n",
              "</style>\n",
              "<table border=\"1\" class=\"dataframe\">\n",
              "  <thead>\n",
              "    <tr style=\"text-align: right;\">\n",
              "      <th></th>\n",
              "      <th>short_name</th>\n",
              "      <th>overall</th>\n",
              "      <th>predicted</th>\n",
              "      <th>difference</th>\n",
              "    </tr>\n",
              "  </thead>\n",
              "  <tbody>\n",
              "    <tr>\n",
              "      <th>1</th>\n",
              "      <td>Cristiano Ronaldo</td>\n",
              "      <td>93</td>\n",
              "      <td>99.507948</td>\n",
              "      <td>6.997794</td>\n",
              "    </tr>\n",
              "    <tr>\n",
              "      <th>4</th>\n",
              "      <td>E. Hazard</td>\n",
              "      <td>91</td>\n",
              "      <td>99.784191</td>\n",
              "      <td>9.652957</td>\n",
              "    </tr>\n",
              "    <tr>\n",
              "      <th>9</th>\n",
              "      <td>M. Salah</td>\n",
              "      <td>90</td>\n",
              "      <td>96.777310</td>\n",
              "      <td>7.530344</td>\n",
              "    </tr>\n",
              "    <tr>\n",
              "      <th>21</th>\n",
              "      <td>Sergio Busquets</td>\n",
              "      <td>89</td>\n",
              "      <td>92.592485</td>\n",
              "      <td>4.036500</td>\n",
              "    </tr>\n",
              "    <tr>\n",
              "      <th>22</th>\n",
              "      <td>A. Griezmann</td>\n",
              "      <td>89</td>\n",
              "      <td>96.755060</td>\n",
              "      <td>8.713550</td>\n",
              "    </tr>\n",
              "    <tr>\n",
              "      <th>...</th>\n",
              "      <td>...</td>\n",
              "      <td>...</td>\n",
              "      <td>...</td>\n",
              "      <td>...</td>\n",
              "    </tr>\n",
              "    <tr>\n",
              "      <th>18272</th>\n",
              "      <td>P. Martin</td>\n",
              "      <td>48</td>\n",
              "      <td>50.175464</td>\n",
              "      <td>4.532217</td>\n",
              "    </tr>\n",
              "    <tr>\n",
              "      <th>18249</th>\n",
              "      <td>Shan Huanhuan</td>\n",
              "      <td>48</td>\n",
              "      <td>54.887036</td>\n",
              "      <td>14.347991</td>\n",
              "    </tr>\n",
              "    <tr>\n",
              "      <th>18269</th>\n",
              "      <td>Huang Jiahui</td>\n",
              "      <td>48</td>\n",
              "      <td>53.599321</td>\n",
              "      <td>11.665252</td>\n",
              "    </tr>\n",
              "    <tr>\n",
              "      <th>18266</th>\n",
              "      <td>Wang Peng</td>\n",
              "      <td>48</td>\n",
              "      <td>55.001454</td>\n",
              "      <td>14.586363</td>\n",
              "    </tr>\n",
              "    <tr>\n",
              "      <th>18260</th>\n",
              "      <td>A. De Angelis</td>\n",
              "      <td>48</td>\n",
              "      <td>54.228722</td>\n",
              "      <td>12.976505</td>\n",
              "    </tr>\n",
              "  </tbody>\n",
              "</table>\n",
              "<p>4570 rows × 4 columns</p>\n",
              "</div>"
            ],
            "text/plain": [
              "              short_name  overall  predicted  difference\n",
              "1      Cristiano Ronaldo       93  99.507948    6.997794\n",
              "4              E. Hazard       91  99.784191    9.652957\n",
              "9               M. Salah       90  96.777310    7.530344\n",
              "21       Sergio Busquets       89  92.592485    4.036500\n",
              "22          A. Griezmann       89  96.755060    8.713550\n",
              "...                  ...      ...        ...         ...\n",
              "18272          P. Martin       48  50.175464    4.532217\n",
              "18249      Shan Huanhuan       48  54.887036   14.347991\n",
              "18269       Huang Jiahui       48  53.599321   11.665252\n",
              "18266          Wang Peng       48  55.001454   14.586363\n",
              "18260      A. De Angelis       48  54.228722   12.976505\n",
              "\n",
              "[4570 rows x 4 columns]"
            ]
          },
          "execution_count": 14,
          "metadata": {},
          "output_type": "execute_result"
        }
      ],
      "source": [
        "#testing the model usint the 25% of the players_20.csv(df) dataframe\n",
        "#sort test data first\n",
        "test_data=test_data.sort_values([target_feature], ascending=False)\n",
        "\n",
        "x_test=test_data[features]\n",
        "x_test.fillna(0,inplace=True)\n",
        "y_test=test_data[target_feature]\n",
        "\n",
        "#start predicting\n",
        "y_predict=model.predict(x_test)\n",
        "#add new column called predicted \n",
        "test_data['predicted']=y_predict\n",
        "rating=((y_predict-y_test)/y_test*100)\n",
        "#add anew column called accuracy\n",
        "test_data['difference']=rating\n",
        "test_data[[\"short_name\",\"overall\",\"predicted\",\"difference\"]]"
      ]
    },
    {
      "cell_type": "code",
      "execution_count": 16,
      "id": "6417a776",
      "metadata": {},
      "outputs": [],
      "source": [
        "#preproccessing features\n",
        "df_19['potential'] = pd.to_numeric(df_19['potential'],errors='coerce')\n",
        "df_19['value_eur'] = pd.to_numeric(df_19['value_eur'],errors='coerce')\n",
        "df_19['wage_eur'] = pd.to_numeric(df_19['wage_eur'],errors='coerce')\n",
        "df_19['attacking_short_passing'] = pd.to_numeric(df_19['attacking_short_passing'],errors='coerce')\n",
        "df_19['skill_long_passing'] = pd.to_numeric(df_19['skill_long_passing'],errors='coerce')\n",
        "df_19['age'] = pd.to_numeric(df_19['age'],errors='coerce')\n",
        "df_19['skill_ball_control'] = pd.to_numeric(df_19['skill_ball_control'],errors='coerce')\n",
        "df_19['skill_curve'] = pd.to_numeric(df_19['skill_curve'],errors='coerce')\n",
        "df_19['skill_moves'] = pd.to_numeric(df_19['skill_moves'],errors='coerce')    \n",
        "df_19['attacking_volleys'] = pd.to_numeric(df_19['attacking_volleys'],errors='coerce')  "
      ]
    },
    {
      "cell_type": "markdown",
      "id": "u7SlkeHHpjyS",
      "metadata": {
        "id": "u7SlkeHHpjyS"
      },
      "source": [
        "#NUMBER 5"
      ]
    },
    {
      "cell_type": "code",
      "execution_count": 17,
      "id": "IYHHRyD8iGqf",
      "metadata": {
        "colab": {
          "base_uri": "https://localhost:8080/",
          "height": 515
        },
        "id": "IYHHRyD8iGqf",
        "outputId": "f0e5e4cf-e997-468a-dbb4-7367659a11ca"
      },
      "outputs": [
        {
          "name": "stderr",
          "output_type": "stream",
          "text": [
            "C:\\Users\\LEE\\AppData\\Local\\Programs\\PythonCodingPack\\lib\\site-packages\\pandas\\core\\frame.py:4311: SettingWithCopyWarning: \n",
            "A value is trying to be set on a copy of a slice from a DataFrame\n",
            "\n",
            "See the caveats in the documentation: https://pandas.pydata.org/pandas-docs/stable/user_guide/indexing.html#returning-a-view-versus-a-copy\n",
            "  return super().fillna(\n"
          ]
        },
        {
          "data": {
            "text/html": [
              "<div>\n",
              "<style scoped>\n",
              "    .dataframe tbody tr th:only-of-type {\n",
              "        vertical-align: middle;\n",
              "    }\n",
              "\n",
              "    .dataframe tbody tr th {\n",
              "        vertical-align: top;\n",
              "    }\n",
              "\n",
              "    .dataframe thead th {\n",
              "        text-align: right;\n",
              "    }\n",
              "</style>\n",
              "<table border=\"1\" class=\"dataframe\">\n",
              "  <thead>\n",
              "    <tr style=\"text-align: right;\">\n",
              "      <th></th>\n",
              "      <th>short_name</th>\n",
              "      <th>overall</th>\n",
              "      <th>predicted</th>\n",
              "    </tr>\n",
              "  </thead>\n",
              "  <tbody>\n",
              "    <tr>\n",
              "      <th>0</th>\n",
              "      <td>Cristiano Ronaldo</td>\n",
              "      <td>94</td>\n",
              "      <td>104.912550</td>\n",
              "    </tr>\n",
              "    <tr>\n",
              "      <th>1</th>\n",
              "      <td>L. Messi</td>\n",
              "      <td>94</td>\n",
              "      <td>108.949383</td>\n",
              "    </tr>\n",
              "    <tr>\n",
              "      <th>2</th>\n",
              "      <td>Neymar Jr</td>\n",
              "      <td>92</td>\n",
              "      <td>109.152640</td>\n",
              "    </tr>\n",
              "    <tr>\n",
              "      <th>3</th>\n",
              "      <td>De Gea</td>\n",
              "      <td>91</td>\n",
              "      <td>96.647792</td>\n",
              "    </tr>\n",
              "    <tr>\n",
              "      <th>4</th>\n",
              "      <td>K. De Bruyne</td>\n",
              "      <td>91</td>\n",
              "      <td>104.416152</td>\n",
              "    </tr>\n",
              "    <tr>\n",
              "      <th>...</th>\n",
              "      <td>...</td>\n",
              "      <td>...</td>\n",
              "      <td>...</td>\n",
              "    </tr>\n",
              "    <tr>\n",
              "      <th>17765</th>\n",
              "      <td>P. Phillips</td>\n",
              "      <td>47</td>\n",
              "      <td>51.458352</td>\n",
              "    </tr>\n",
              "    <tr>\n",
              "      <th>17766</th>\n",
              "      <td>A. Kaltner</td>\n",
              "      <td>47</td>\n",
              "      <td>50.351719</td>\n",
              "    </tr>\n",
              "    <tr>\n",
              "      <th>17767</th>\n",
              "      <td>Ma Junliang</td>\n",
              "      <td>47</td>\n",
              "      <td>52.430084</td>\n",
              "    </tr>\n",
              "    <tr>\n",
              "      <th>17768</th>\n",
              "      <td>C. Ehlich</td>\n",
              "      <td>47</td>\n",
              "      <td>49.764005</td>\n",
              "    </tr>\n",
              "    <tr>\n",
              "      <th>17769</th>\n",
              "      <td>E. Tweed</td>\n",
              "      <td>47</td>\n",
              "      <td>49.263692</td>\n",
              "    </tr>\n",
              "  </tbody>\n",
              "</table>\n",
              "<p>17770 rows × 3 columns</p>\n",
              "</div>"
            ],
            "text/plain": [
              "              short_name  overall   predicted\n",
              "0      Cristiano Ronaldo       94  104.912550\n",
              "1               L. Messi       94  108.949383\n",
              "2              Neymar Jr       92  109.152640\n",
              "3                 De Gea       91   96.647792\n",
              "4           K. De Bruyne       91  104.416152\n",
              "...                  ...      ...         ...\n",
              "17765        P. Phillips       47   51.458352\n",
              "17766         A. Kaltner       47   50.351719\n",
              "17767        Ma Junliang       47   52.430084\n",
              "17768          C. Ehlich       47   49.764005\n",
              "17769           E. Tweed       47   49.263692\n",
              "\n",
              "[17770 rows x 3 columns]"
            ]
          },
          "execution_count": 17,
          "metadata": {},
          "output_type": "execute_result"
        }
      ],
      "source": [
        "#selecting features from the 2019 dataset\n",
        "features=['potential','value_eur','wage_eur','attacking_short_passing','skill_long_passing','age','skill_ball_control','skill_curve','skill_moves','attacking_volleys']\n",
        "x_test=df_19[features]\n",
        "x_test.fillna(0,inplace=True)\n",
        "y_test=df_19['overall']\n",
        "predict=r.predict(x_test)\n",
        "df_19['predicted']=predict\n",
        "df_19[['short_name','overall','predicted']]"
      ]
    },
    {
      "cell_type": "code",
      "execution_count": 18,
      "id": "rvGNo2ui_xux",
      "metadata": {
        "id": "rvGNo2ui_xux"
      },
      "outputs": [],
      "source": [
        "import pickle"
      ]
    },
    {
      "cell_type": "code",
      "execution_count": 19,
      "id": "apfxbQiO_xuy",
      "metadata": {
        "id": "apfxbQiO_xuy"
      },
      "outputs": [],
      "source": [
        "filename=\"player_rating.pkl\"\n",
        "outfile=open(filename,'wb')\n",
        "pickle.dump(model,outfile)\n",
        "outfile.close()"
      ]
    },
    {
      "cell_type": "code",
      "execution_count": null,
      "id": "8B2EnT_q_xu0",
      "metadata": {
        "id": "8B2EnT_q_xu0"
      },
      "outputs": [],
      "source": []
    }
  ],
  "metadata": {
    "colab": {
      "collapsed_sections": [],
      "name": "assignment",
      "provenance": []
    },
    "kernelspec": {
      "display_name": "Python 3",
      "language": "python",
      "name": "python3"
    },
    "language_info": {
      "codemirror_mode": {
        "name": "ipython",
        "version": 3
      },
      "file_extension": ".py",
      "mimetype": "text/x-python",
      "name": "python",
      "nbconvert_exporter": "python",
      "pygments_lexer": "ipython3",
      "version": "3.8.5"
    }
  },
  "nbformat": 4,
  "nbformat_minor": 5
}
